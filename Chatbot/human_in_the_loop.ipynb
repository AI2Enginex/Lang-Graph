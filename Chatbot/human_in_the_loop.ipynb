{
 "cells": [
  {
   "cell_type": "markdown",
   "id": "57a81754",
   "metadata": {},
   "source": [
    "# Working of Human In the Loop in LangGraph\n",
    "\n",
    "The “human in the loop” concept in LangGraph (or any AI workflow system like LangChain) refers to involving a real person at certain decision points in the execution of a graph. This is super useful when the AI might need human judgment, approval, or correction before proceeding\n",
    "\n",
    "\n",
    "## When Do You Need a Human in the Loop?\n",
    "\n",
    "When the model output is uncertain or needs validation.\n",
    "\n",
    "For reviewing AI-generated content (emails, legal docs, jokes).\n",
    "\n",
    "Approving actions before they're taken (e.g., sending an email, making a database change).\n",
    "\n",
    "Choosing among multiple possible next steps.\n",
    "\n",
    "***You’ll have a LangGraph with these nodes:***\n",
    "\n",
    "1. Start → Generate a joke (LLM)\n",
    "\n",
    "2. Human approval (Wait for human input)\n",
    "\n",
    "3. Final send (LLM or output step)"
   ]
  },
  {
   "cell_type": "code",
   "execution_count": 1,
   "id": "f26cee32",
   "metadata": {},
   "outputs": [],
   "source": [
    "import random\n",
    "\n",
    "# Step 1: Simulated LLM that generates a joke\n",
    "def generate_joke():\n",
    "    # Pretend the LLM returns a JSON-formatted joke\n",
    "    jokes = [\n",
    "        {\n",
    "            \"setup\": \"Why do Python developers wear glasses?\",\n",
    "            \"punchline\": \"Because they can't C!\"\n",
    "        },\n",
    "        {\n",
    "            \"setup\": \"Why did the Python function get an award?\",\n",
    "            \"punchline\": \"Because it had great scope!\"\n",
    "        }\n",
    "    ]\n",
    "    joke = random.choice(jokes)\n",
    "    print(\"Generated Joke:\")\n",
    "    print(f\"  Setup: {joke['setup']}\")\n",
    "    print(f\"  Punchline: {joke['punchline']}\")\n",
    "    return {\"joke\": joke, \"next\": \"await_human\"}"
   ]
  },
  {
   "cell_type": "code",
   "execution_count": null,
   "id": "38d1ae4f",
   "metadata": {},
   "outputs": [],
   "source": [
    "# Step 2: Simulated \"pause\" for human approval\n",
    "def await_human(state):\n",
    "    joke = state[\"joke\"]\n",
    "    print(\"\\nHUMAN REVIEW REQUIRED:\")\n",
    "    approval = input(\"Do you approve this joke? (yes/no): \").strip().lower()\n",
    "    return {\"human_approval\": approval, \"joke\": joke}\n",
    "\n",
    "# Step 3: Final step based on human input\n",
    "def final_output(state):\n",
    "    if state[\"human_approval\"] == \"yes\":\n",
    "        print(\"\\n Final Joke Approved and Sent!\")\n",
    "        print(f\" Setup: {state['joke']['setup']}\")\n",
    "        print(f\" Punchline: {state['joke']['punchline']}\")\n",
    "    else:\n",
    "        print(\"\\nJoke rejected by human.\")\n",
    "        print(\"You can rerun the process to try again.\")\n"
   ]
  },
  {
   "cell_type": "code",
   "execution_count": 3,
   "id": "d2cde427",
   "metadata": {},
   "outputs": [
    {
     "name": "stdout",
     "output_type": "stream",
     "text": [
      "Generated Joke:\n",
      "  Setup: Why do Python developers wear glasses?\n",
      "  Punchline: Because they can't C!\n",
      "\n",
      "🧑 HUMAN REVIEW REQUIRED:\n",
      "\n",
      " Final Joke Approved and Sent!\n",
      " Setup: Why do Python developers wear glasses?\n",
      " Punchline: Because they can't C!\n"
     ]
    }
   ],
   "source": [
    "\n",
    "# Simulated LangGraph flow\n",
    "def langgraph_flow():\n",
    "    state = {}\n",
    "    \n",
    "    # Node 1: Generate Joke\n",
    "    state.update(generate_joke())\n",
    "\n",
    "    # Node 2: Wait for Human Input\n",
    "    state.update(await_human(state))\n",
    "\n",
    "    # Node 3: Final Decision\n",
    "    final_output(state)\n",
    "\n",
    "# Run the mock LangGraph\n",
    "langgraph_flow()"
   ]
  }
 ],
 "metadata": {
  "kernelspec": {
   "display_name": "Python 3",
   "language": "python",
   "name": "python3"
  },
  "language_info": {
   "codemirror_mode": {
    "name": "ipython",
    "version": 3
   },
   "file_extension": ".py",
   "mimetype": "text/x-python",
   "name": "python",
   "nbconvert_exporter": "python",
   "pygments_lexer": "ipython3",
   "version": "3.12.4"
  }
 },
 "nbformat": 4,
 "nbformat_minor": 5
}
